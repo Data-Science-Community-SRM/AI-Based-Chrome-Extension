{
 "cells": [
  {
   "cell_type": "code",
   "execution_count": 35,
   "metadata": {},
   "outputs": [],
   "source": [
    "import pandas as pd \n",
    "import numpy as np \n",
    "import matplotlib.pyplot as plt\n",
    "import sklearn as sk\n",
    "import tensorflow as tf\n",
    "import keras"
   ]
  },
  {
   "cell_type": "code",
   "execution_count": 2,
   "metadata": {},
   "outputs": [],
   "source": [
    "df = pd.read_csv(\"D:\\mallicious_link\\dataset.csv\")"
   ]
  },
  {
   "cell_type": "code",
   "execution_count": 4,
   "metadata": {},
   "outputs": [
    {
     "data": {
      "text/html": [
       "<div>\n",
       "<style scoped>\n",
       "    .dataframe tbody tr th:only-of-type {\n",
       "        vertical-align: middle;\n",
       "    }\n",
       "\n",
       "    .dataframe tbody tr th {\n",
       "        vertical-align: top;\n",
       "    }\n",
       "\n",
       "    .dataframe thead th {\n",
       "        text-align: right;\n",
       "    }\n",
       "</style>\n",
       "<table border=\"1\" class=\"dataframe\">\n",
       "  <thead>\n",
       "    <tr style=\"text-align: right;\">\n",
       "      <th></th>\n",
       "      <th>url</th>\n",
       "      <th>label</th>\n",
       "    </tr>\n",
       "  </thead>\n",
       "  <tbody>\n",
       "    <tr>\n",
       "      <th>0</th>\n",
       "      <td>http://br-ofertasimperdiveis.epizy.com/produto...</td>\n",
       "      <td>1</td>\n",
       "    </tr>\n",
       "    <tr>\n",
       "      <th>1</th>\n",
       "      <td>https://semana-da-oferta.com/produtos.php?id=5...</td>\n",
       "      <td>1</td>\n",
       "    </tr>\n",
       "    <tr>\n",
       "      <th>2</th>\n",
       "      <td>https://scrid-apps-creacust-sslhide90766752024...</td>\n",
       "      <td>1</td>\n",
       "    </tr>\n",
       "    <tr>\n",
       "      <th>3</th>\n",
       "      <td>http://my-softbank-security.com/wap_login.htm</td>\n",
       "      <td>1</td>\n",
       "    </tr>\n",
       "    <tr>\n",
       "      <th>4</th>\n",
       "      <td>http://www.my-softbank-security.com/wap_login.htm</td>\n",
       "      <td>1</td>\n",
       "    </tr>\n",
       "  </tbody>\n",
       "</table>\n",
       "</div>"
      ],
      "text/plain": [
       "                                                 url  label\n",
       "0  http://br-ofertasimperdiveis.epizy.com/produto...      1\n",
       "1  https://semana-da-oferta.com/produtos.php?id=5...      1\n",
       "2  https://scrid-apps-creacust-sslhide90766752024...      1\n",
       "3      http://my-softbank-security.com/wap_login.htm      1\n",
       "4  http://www.my-softbank-security.com/wap_login.htm      1"
      ]
     },
     "execution_count": 4,
     "metadata": {},
     "output_type": "execute_result"
    }
   ],
   "source": [
    "df.head()"
   ]
  },
  {
   "cell_type": "code",
   "execution_count": 5,
   "metadata": {},
   "outputs": [
    {
     "data": {
      "text/html": [
       "<div>\n",
       "<style scoped>\n",
       "    .dataframe tbody tr th:only-of-type {\n",
       "        vertical-align: middle;\n",
       "    }\n",
       "\n",
       "    .dataframe tbody tr th {\n",
       "        vertical-align: top;\n",
       "    }\n",
       "\n",
       "    .dataframe thead th {\n",
       "        text-align: right;\n",
       "    }\n",
       "</style>\n",
       "<table border=\"1\" class=\"dataframe\">\n",
       "  <thead>\n",
       "    <tr style=\"text-align: right;\">\n",
       "      <th></th>\n",
       "      <th>label</th>\n",
       "    </tr>\n",
       "  </thead>\n",
       "  <tbody>\n",
       "    <tr>\n",
       "      <th>count</th>\n",
       "      <td>1.056937e+06</td>\n",
       "    </tr>\n",
       "    <tr>\n",
       "      <th>mean</th>\n",
       "      <td>5.386981e-02</td>\n",
       "    </tr>\n",
       "    <tr>\n",
       "      <th>std</th>\n",
       "      <td>2.257607e-01</td>\n",
       "    </tr>\n",
       "    <tr>\n",
       "      <th>min</th>\n",
       "      <td>0.000000e+00</td>\n",
       "    </tr>\n",
       "    <tr>\n",
       "      <th>25%</th>\n",
       "      <td>0.000000e+00</td>\n",
       "    </tr>\n",
       "    <tr>\n",
       "      <th>50%</th>\n",
       "      <td>0.000000e+00</td>\n",
       "    </tr>\n",
       "    <tr>\n",
       "      <th>75%</th>\n",
       "      <td>0.000000e+00</td>\n",
       "    </tr>\n",
       "    <tr>\n",
       "      <th>max</th>\n",
       "      <td>1.000000e+00</td>\n",
       "    </tr>\n",
       "  </tbody>\n",
       "</table>\n",
       "</div>"
      ],
      "text/plain": [
       "              label\n",
       "count  1.056937e+06\n",
       "mean   5.386981e-02\n",
       "std    2.257607e-01\n",
       "min    0.000000e+00\n",
       "25%    0.000000e+00\n",
       "50%    0.000000e+00\n",
       "75%    0.000000e+00\n",
       "max    1.000000e+00"
      ]
     },
     "execution_count": 5,
     "metadata": {},
     "output_type": "execute_result"
    }
   ],
   "source": [
    "df.describe()"
   ]
  },
  {
   "cell_type": "code",
   "execution_count": 6,
   "metadata": {},
   "outputs": [
    {
     "name": "stdout",
     "output_type": "stream",
     "text": [
      "<class 'pandas.core.frame.DataFrame'>\n",
      "RangeIndex: 1056937 entries, 0 to 1056936\n",
      "Data columns (total 2 columns):\n",
      " #   Column  Non-Null Count    Dtype \n",
      "---  ------  --------------    ----- \n",
      " 0   url     1056937 non-null  object\n",
      " 1   label   1056937 non-null  int64 \n",
      "dtypes: int64(1), object(1)\n",
      "memory usage: 16.1+ MB\n"
     ]
    }
   ],
   "source": [
    "df.info()"
   ]
  },
  {
   "cell_type": "code",
   "execution_count": 7,
   "metadata": {},
   "outputs": [
    {
     "name": "stdout",
     "output_type": "stream",
     "text": [
      "<class 'pandas.core.series.Series'>\n",
      "RangeIndex: 1056937 entries, 0 to 1056936\n",
      "Series name: label\n",
      "Non-Null Count    Dtype\n",
      "--------------    -----\n",
      "1056937 non-null  int64\n",
      "dtypes: int64(1)\n",
      "memory usage: 8.1 MB\n"
     ]
    }
   ],
   "source": [
    "df[\"label\"].info()"
   ]
  },
  {
   "cell_type": "code",
   "execution_count": 8,
   "metadata": {},
   "outputs": [
    {
     "data": {
      "text/plain": [
       "array([1, 0], dtype=int64)"
      ]
     },
     "execution_count": 8,
     "metadata": {},
     "output_type": "execute_result"
    }
   ],
   "source": [
    "df[\"label\"].unique()"
   ]
  },
  {
   "cell_type": "code",
   "execution_count": 16,
   "metadata": {},
   "outputs": [
    {
     "data": {
      "text/plain": [
       "0"
      ]
     },
     "execution_count": 16,
     "metadata": {},
     "output_type": "execute_result"
    }
   ],
   "source": [
    "df[\"label\"].isnull().sum()"
   ]
  },
  {
   "cell_type": "code",
   "execution_count": 22,
   "metadata": {},
   "outputs": [],
   "source": [
    "from sklearn.model_selection import train_test_split"
   ]
  },
  {
   "cell_type": "code",
   "execution_count": 23,
   "metadata": {},
   "outputs": [],
   "source": [
    "x_train , x_split , y_train , y_split = train_test_split(df[\"url\"] , df[[\"label\"]] , test_size= 0.3 , random_state=42)"
   ]
  },
  {
   "cell_type": "code",
   "execution_count": 24,
   "metadata": {},
   "outputs": [],
   "source": [
    "x_test , x_val , y_test , y_val  = train_test_split( x_split, y_split, test_size= 0.5, random_state=42)"
   ]
  },
  {
   "cell_type": "code",
   "execution_count": 25,
   "metadata": {},
   "outputs": [
    {
     "name": "stdout",
     "output_type": "stream",
     "text": [
      "(739855,)\n",
      "(158541,)\n",
      "(158541,)\n",
      "(739855, 1)\n",
      "(158541, 1)\n",
      "(158541, 1)\n"
     ]
    }
   ],
   "source": [
    "print(x_train.shape)\n",
    "print(x_test.shape)\n",
    "print(x_val.shape)\n",
    "print(y_train.shape)\n",
    "print(y_test.shape)\n",
    "print(y_val.shape)"
   ]
  },
  {
   "cell_type": "code",
   "execution_count": 26,
   "metadata": {},
   "outputs": [
    {
     "data": {
      "text/plain": [
       "1"
      ]
     },
     "execution_count": 26,
     "metadata": {},
     "output_type": "execute_result"
    }
   ],
   "source": [
    "round(sum([len(i.split()) for i in x_train])/len(x_train))"
   ]
  },
  {
   "cell_type": "code",
   "execution_count": 27,
   "metadata": {},
   "outputs": [],
   "source": [
    "from tensorflow.keras.layers.experimental.preprocessing import TextVectorization"
   ]
  },
  {
   "cell_type": "code",
   "execution_count": 28,
   "metadata": {},
   "outputs": [],
   "source": [
    "def custom_standardization(input_data):\n",
    "  return tf.strings.regex_replace(input_data, '/', ' ')"
   ]
  },
  {
   "cell_type": "code",
   "execution_count": 31,
   "metadata": {},
   "outputs": [
    {
     "data": {
      "text/plain": [
       "<keras.layers.preprocessing.text_vectorization.TextVectorization at 0x1ca20b26310>"
      ]
     },
     "execution_count": 31,
     "metadata": {},
     "output_type": "execute_result"
    }
   ],
   "source": [
    "text_vec = TextVectorization(max_tokens= None , output_mode= 'int' , output_sequence_length= 10 , standardize= custom_standardization , split=\"whitespace\")\n",
    "text_vec"
   ]
  },
  {
   "cell_type": "code",
   "execution_count": 32,
   "metadata": {},
   "outputs": [],
   "source": [
    "text_vec.adapt(x_train)"
   ]
  },
  {
   "cell_type": "code",
   "execution_count": 36,
   "metadata": {},
   "outputs": [],
   "source": [
    "embed = keras.layers.Embedding (input_dim=30000, \n",
    "                                output_dim=128, \n",
    "                                embeddings_initializer=\"uniform\", \n",
    "                                input_length=10,\n",
    "                                name=\"embedding_1\")"
   ]
  },
  {
   "cell_type": "code",
   "execution_count": 37,
   "metadata": {},
   "outputs": [
    {
     "data": {
      "text/plain": [
       "<keras.layers.embeddings.Embedding at 0x1ca2fa8b160>"
      ]
     },
     "execution_count": 37,
     "metadata": {},
     "output_type": "execute_result"
    }
   ],
   "source": [
    "embed"
   ]
  },
  {
   "cell_type": "code",
   "execution_count": 38,
   "metadata": {},
   "outputs": [],
   "source": [
    "from tensorflow.keras import layers"
   ]
  },
  {
   "cell_type": "code",
   "execution_count": 41,
   "metadata": {},
   "outputs": [],
   "source": [
    "input = layers.Input(shape=(1,), dtype=\"string\")\n",
    "\n",
    "tv = text_vec (input)\n",
    "\n",
    "em = embed(tv)\n",
    "\n",
    "LSTM = layers.LSTM(64 , kernel_initializer= keras.initializers.RandomNormal(stddev=0.0001) ,\n",
    "                         recurrent_initializer = keras.initializers.Identity(gain=1.0))(em)\n",
    "\n",
    "drop1 = layers.Dropout(0.2)(LSTM)  \n",
    "\n",
    "dense1 = layers.Dense(32 , activation=\"relu\")(drop1)\n",
    "\n",
    "drop2 = layers.Dropout(0.2)(dense1)\n",
    "\n",
    "dense2 = layers.Dense(32 , activation=\"relu\")(drop2)\n",
    "\n",
    "output1 = layers.Dense(1 , activation=\"sigmoid\" , name = \"malicious\")(dense2)\n",
    "\n",
    "model_LSTM = keras.Model(inputs= input , outputs = output1 , name = 'vannila_rnn')"
   ]
  },
  {
   "cell_type": "code",
   "execution_count": 42,
   "metadata": {},
   "outputs": [
    {
     "name": "stdout",
     "output_type": "stream",
     "text": [
      "Model: \"vannila_rnn\"\n",
      "_________________________________________________________________\n",
      " Layer (type)                Output Shape              Param #   \n",
      "=================================================================\n",
      " input_3 (InputLayer)        [(None, 1)]               0         \n",
      "                                                                 \n",
      " text_vectorization_1 (TextV  (None, 10)               0         \n",
      " ectorization)                                                   \n",
      "                                                                 \n",
      " embedding_1 (Embedding)     (None, 10, 128)           3840000   \n",
      "                                                                 \n",
      " lstm_2 (LSTM)               (None, 64)                49408     \n",
      "                                                                 \n",
      " dropout_4 (Dropout)         (None, 64)                0         \n",
      "                                                                 \n",
      " dense_4 (Dense)             (None, 32)                2080      \n",
      "                                                                 \n",
      " dropout_5 (Dropout)         (None, 32)                0         \n",
      "                                                                 \n",
      " dense_5 (Dense)             (None, 32)                1056      \n",
      "                                                                 \n",
      " malicious (Dense)           (None, 1)                 33        \n",
      "                                                                 \n",
      "=================================================================\n",
      "Total params: 3,892,577\n",
      "Trainable params: 3,892,577\n",
      "Non-trainable params: 0\n",
      "_________________________________________________________________\n"
     ]
    }
   ],
   "source": [
    "model_LSTM.summary()"
   ]
  },
  {
   "cell_type": "code",
   "execution_count": 44,
   "metadata": {},
   "outputs": [
    {
     "data": {
      "image/png": "[encoded data removed]",
      "text/plain": [
       "<IPython.core.display.Image object>"
      ]
     },
     "execution_count": 44,
     "metadata": {},
     "output_type": "execute_result"
    }
   ],
   "source": [
    "from tensorflow.keras.utils import plot_model\n",
    "plot_model(model_LSTM)"
   ]
  },
  {
   "cell_type": "code",
   "execution_count": 45,
   "metadata": {},
   "outputs": [],
   "source": [
    "model_LSTM.compile(optimizer= tf.keras.optimizers.Adamax(learning_rate=1e-5 ) ,   \n",
    "                     loss = 'binary_crossentropy' , metrics= \"accuracy\" )"
   ]
  },
  {
   "cell_type": "code",
   "execution_count": 46,
   "metadata": {},
   "outputs": [
    {
     "name": "stdout",
     "output_type": "stream",
     "text": [
      "Epoch 1/30\n",
      "1446/1446 [==============================] - 18s 9ms/step - loss: 0.5786 - accuracy: 0.9454 - val_loss: 0.3219 - val_accuracy: 0.9462\n",
      "Epoch 2/30\n",
      "1446/1446 [==============================] - 12s 8ms/step - loss: 0.1748 - accuracy: 0.9460 - val_loss: 0.1273 - val_accuracy: 0.9462\n",
      "Epoch 3/30\n",
      "1446/1446 [==============================] - 12s 8ms/step - loss: 0.1155 - accuracy: 0.9466 - val_loss: 0.0860 - val_accuracy: 0.9489\n",
      "Epoch 4/30\n",
      "1446/1446 [==============================] - 12s 8ms/step - loss: 0.0620 - accuracy: 0.9695 - val_loss: 0.0393 - val_accuracy: 0.9940\n",
      "Epoch 5/30\n",
      "1446/1446 [==============================] - 12s 9ms/step - loss: 0.0303 - accuracy: 0.9982 - val_loss: 0.0206 - val_accuracy: 0.9989\n",
      "Epoch 6/30\n",
      "1446/1446 [==============================] - 12s 8ms/step - loss: 0.0178 - accuracy: 0.9989 - val_loss: 0.0135 - val_accuracy: 0.9989\n",
      "Epoch 7/30\n",
      "1446/1446 [==============================] - 12s 8ms/step - loss: 0.0124 - accuracy: 0.9989 - val_loss: 0.0103 - val_accuracy: 0.9989\n",
      "Epoch 8/30\n",
      "1446/1446 [==============================] - 13s 9ms/step - loss: 0.0105 - accuracy: 0.9989 - val_loss: 0.0095 - val_accuracy: 0.9989\n",
      "Epoch 9/30\n",
      "1446/1446 [==============================] - 13s 9ms/step - loss: 0.0099 - accuracy: 0.9989 - val_loss: 0.0093 - val_accuracy: 0.9989\n",
      "Epoch 10/30\n",
      "1446/1446 [==============================] - 12s 9ms/step - loss: 0.0098 - accuracy: 0.9989 - val_loss: 0.0092 - val_accuracy: 0.9989\n",
      "Epoch 11/30\n",
      "1446/1446 [==============================] - 13s 9ms/step - loss: 0.0096 - accuracy: 0.9989 - val_loss: 0.0091 - val_accuracy: 0.9989\n",
      "Epoch 12/30\n",
      "1446/1446 [==============================] - 13s 9ms/step - loss: 0.0095 - accuracy: 0.9989 - val_loss: 0.0091 - val_accuracy: 0.9989\n",
      "Epoch 13/30\n",
      "1446/1446 [==============================] - 13s 9ms/step - loss: 0.0094 - accuracy: 0.9989 - val_loss: 0.0091 - val_accuracy: 0.9989\n",
      "Epoch 14/30\n",
      "1446/1446 [==============================] - 13s 9ms/step - loss: 0.0096 - accuracy: 0.9989 - val_loss: 0.0091 - val_accuracy: 0.9989\n",
      "Epoch 15/30\n",
      "1446/1446 [==============================] - 12s 9ms/step - loss: 0.0094 - accuracy: 0.9989 - val_loss: 0.0091 - val_accuracy: 0.9989\n",
      "Epoch 16/30\n",
      "1446/1446 [==============================] - 13s 9ms/step - loss: 0.0095 - accuracy: 0.9989 - val_loss: 0.0091 - val_accuracy: 0.9989\n",
      "Epoch 17/30\n",
      "1446/1446 [==============================] - 14s 10ms/step - loss: 0.0095 - accuracy: 0.9989 - val_loss: 0.0091 - val_accuracy: 0.9989\n",
      "Epoch 18/30\n",
      "1446/1446 [==============================] - 13s 9ms/step - loss: 0.0095 - accuracy: 0.9989 - val_loss: 0.0091 - val_accuracy: 0.9989\n",
      "Epoch 19/30\n",
      "1446/1446 [==============================] - 14s 10ms/step - loss: 0.0093 - accuracy: 0.9989 - val_loss: 0.0091 - val_accuracy: 0.9989\n",
      "Epoch 20/30\n",
      "1446/1446 [==============================] - 14s 10ms/step - loss: 0.0094 - accuracy: 0.9989 - val_loss: 0.0090 - val_accuracy: 0.9989\n",
      "Epoch 21/30\n",
      "1446/1446 [==============================] - 13s 9ms/step - loss: 0.0094 - accuracy: 0.9989 - val_loss: 0.0090 - val_accuracy: 0.9989\n",
      "Epoch 22/30\n",
      "1446/1446 [==============================] - 12s 9ms/step - loss: 0.0094 - accuracy: 0.9989 - val_loss: 0.0090 - val_accuracy: 0.9989\n",
      "Epoch 23/30\n",
      "1446/1446 [==============================] - 13s 9ms/step - loss: 0.0093 - accuracy: 0.9989 - val_loss: 0.0090 - val_accuracy: 0.9989\n",
      "Epoch 24/30\n",
      "1446/1446 [==============================] - 13s 9ms/step - loss: 0.0093 - accuracy: 0.9989 - val_loss: 0.0090 - val_accuracy: 0.9989\n",
      "Epoch 25/30\n",
      "1446/1446 [==============================] - 14s 10ms/step - loss: 0.0093 - accuracy: 0.9989 - val_loss: 0.0090 - val_accuracy: 0.9989\n",
      "Epoch 26/30\n",
      "1446/1446 [==============================] - 14s 10ms/step - loss: 0.0094 - accuracy: 0.9989 - val_loss: 0.0090 - val_accuracy: 0.9989\n",
      "Epoch 27/30\n",
      "1446/1446 [==============================] - 15s 10ms/step - loss: 0.0093 - accuracy: 0.9989 - val_loss: 0.0090 - val_accuracy: 0.9989\n",
      "Epoch 28/30\n",
      "1446/1446 [==============================] - 15s 10ms/step - loss: 0.0093 - accuracy: 0.9989 - val_loss: 0.0090 - val_accuracy: 0.9989\n",
      "Epoch 29/30\n",
      "1446/1446 [==============================] - 14s 10ms/step - loss: 0.0093 - accuracy: 0.9989 - val_loss: 0.0090 - val_accuracy: 0.9989\n",
      "Epoch 30/30\n",
      "1446/1446 [==============================] - 14s 10ms/step - loss: 0.0093 - accuracy: 0.9989 - val_loss: 0.0090 - val_accuracy: 0.9989\n"
     ]
    },
    {
     "data": {
      "text/plain": [
       "<keras.callbacks.History at 0x1ca36968580>"
      ]
     },
     "execution_count": 46,
     "metadata": {},
     "output_type": "execute_result"
    }
   ],
   "source": [
    "model_LSTM.fit(x = x_train , y = y_train , batch_size=512, epochs=30, validation_data=(x_val , y_val))"
   ]
  },
  {
   "cell_type": "code",
   "execution_count": 47,
   "metadata": {},
   "outputs": [],
   "source": [
    "def plot_hist(hist):\n",
    "    plt.plot(hist.history.history[\"loss\"])\n",
    "    plt.plot(hist.history.history[\"val_loss\"])\n",
    "    plt.title(\"model loss\")\n",
    "    plt.ylabel(\"loss\")\n",
    "    plt.xlabel(\"epoch\")\n",
    "    plt.legend([\"train\", \"validation\"], loc=\"upper left\")\n",
    "    plt.show()"
   ]
  },
  {
   "cell_type": "code",
   "execution_count": 48,
   "metadata": {},
   "outputs": [
    {
     "data": {
      "image/png": "[encoded data removed]",
      "text/plain": [
       "<Figure size 432x288 with 1 Axes>"
      ]
     },
     "metadata": {
      "needs_background": "light"
     },
     "output_type": "display_data"
    }
   ],
   "source": [
    "plot_hist(model_LSTM)"
   ]
  },
  {
   "cell_type": "code",
   "execution_count": 50,
   "metadata": {},
   "outputs": [
    {
     "name": "stdout",
     "output_type": "stream",
     "text": [
      "4955/4955 [==============================] - 16s 3ms/step - loss: 0.0079 - accuracy: 0.9990\n"
     ]
    },
    {
     "data": {
      "text/plain": [
       "[0.007850918918848038, 0.9990286231040955]"
      ]
     },
     "execution_count": 50,
     "metadata": {},
     "output_type": "execute_result"
    }
   ],
   "source": [
    "model_LSTM.evaluate(x_test , y_test)"
   ]
  },
  {
   "cell_type": "code",
   "execution_count": 57,
   "metadata": {},
   "outputs": [
    {
     "name": "stderr",
     "output_type": "stream",
     "text": [
      "WARNING:absl:Found untraced functions such as lstm_cell_2_layer_call_fn, lstm_cell_2_layer_call_and_return_conditional_losses while saving (showing 2 of 2). These functions will not be directly callable after loading.\n"
     ]
    },
    {
     "name": "stdout",
     "output_type": "stream",
     "text": [
      "INFO:tensorflow:Assets written to: lstm.tf\\assets\n"
     ]
    },
    {
     "name": "stderr",
     "output_type": "stream",
     "text": [
      "INFO:tensorflow:Assets written to: lstm.tf\\assets\n",
      "WARNING:absl:<keras.layers.recurrent.LSTMCell object at 0x000001CA36B83CA0> has the same name 'LSTMCell' as a built-in Keras object. Consider renaming <class 'keras.layers.recurrent.LSTMCell'> to avoid naming conflicts when loading with `tf.keras.models.load_model`. If renaming is not possible, pass the object in the `custom_objects` parameter of the load function.\n"
     ]
    }
   ],
   "source": [
    "model_LSTM.save(\"lstm.tf\")"
   ]
  },
  {
   "cell_type": "code",
   "execution_count": 58,
   "metadata": {},
   "outputs": [
    {
     "name": "stderr",
     "output_type": "stream",
     "text": [
      "WARNING:absl:Found untraced functions such as lstm_cell_2_layer_call_fn, lstm_cell_2_layer_call_and_return_conditional_losses while saving (showing 2 of 2). These functions will not be directly callable after loading.\n"
     ]
    },
    {
     "name": "stdout",
     "output_type": "stream",
     "text": [
      "INFO:tensorflow:Assets written to: lstm.hfd5\\assets\n"
     ]
    },
    {
     "name": "stderr",
     "output_type": "stream",
     "text": [
      "INFO:tensorflow:Assets written to: lstm.hfd5\\assets\n",
      "WARNING:absl:<keras.layers.recurrent.LSTMCell object at 0x000001CA36B83CA0> has the same name 'LSTMCell' as a built-in Keras object. Consider renaming <class 'keras.layers.recurrent.LSTMCell'> to avoid naming conflicts when loading with `tf.keras.models.load_model`. If renaming is not possible, pass the object in the `custom_objects` parameter of the load function.\n"
     ]
    }
   ],
   "source": [
    "model_LSTM.save(\"lstm.hfd5\")"
   ]
  },
  {
   "cell_type": "code",
   "execution_count": null,
   "metadata": {},
   "outputs": [],
   "source": []
  }
 ],
 "metadata": {
  "kernelspec": {
   "display_name": "base",
   "language": "python",
   "name": "python3"
  },
  "language_info": {
   "codemirror_mode": {
    "name": "ipython",
    "version": 3
   },
   "file_extension": ".py",
   "mimetype": "text/x-python",
   "name": "python",
   "nbconvert_exporter": "python",
   "pygments_lexer": "ipython3",
   "version": "3.9.12"
  },
  "orig_nbformat": 4
 },
 "nbformat": 4,
 "nbformat_minor": 2
}

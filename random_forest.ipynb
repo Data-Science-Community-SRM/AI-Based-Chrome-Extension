{
  "cells": [
    {
      "cell_type": "code",
      "source": [
        "!pip install tld"
      ],
      "metadata": {
        "colab": {
          "base_uri": "https://localhost:8080/"
        },
        "id": "NTt-govOF-0W",
        "outputId": "c9054dad-7688-479e-be06-56ffec710b9b"
      },
      "execution_count": 1,
      "outputs": [
        {
          "output_type": "stream",
          "name": "stdout",
          "text": [
            "Looking in indexes: https://pypi.org/simple, https://us-python.pkg.dev/colab-wheels/public/simple/\n",
            "Collecting tld\n",
            "  Downloading tld-0.13-py2.py3-none-any.whl (263 kB)\n",
            "\u001b[2K     \u001b[90m━━━━━━━━━━━━━━━━━━━━━━━━━━━━━━━━━━━━━━━\u001b[0m \u001b[32m263.8/263.8 kB\u001b[0m \u001b[31m6.9 MB/s\u001b[0m eta \u001b[36m0:00:00\u001b[0m\n",
            "\u001b[?25hInstalling collected packages: tld\n",
            "Successfully installed tld-0.13\n"
          ]
        }
      ]
    },
    {
      "cell_type": "code",
      "execution_count": 2,
      "metadata": {
        "id": "hosQtTKumnxD"
      },
      "outputs": [],
      "source": [
        "import re\n",
        "import pandas as pd\n",
        "from sklearn.ensemble import RandomForestClassifier\n",
        "from sklearn.feature_extraction.text import CountVectorizer\n",
        "from sklearn.metrics import accuracy_score\n",
        "from sklearn.model_selection import train_test_split\n",
        "import matplotlib.pyplot as plt\n",
        "import seaborn as sns\n",
        "import numpy as np\n",
        "from urllib.parse import urlparse\n",
        "from tld import get_tld, is_tld\n",
        "\n",
        "\n",
        "# Load the dataset\n",
        "df_orig = pd.read_csv('data/malicious_phish.csv')"
      ]
    },
    {
      "cell_type": "code",
      "source": [
        "df = df_orig.copy()\n",
        "df['type'] = df['type'].apply(lambda x: 1 if x == 'benign' else 0)\n",
        "df.head()"
      ],
      "metadata": {
        "id": "C7Vhgod0nh3F",
        "outputId": "1273ea55-8dce-4183-92ee-61fe883e89c4",
        "colab": {
          "base_uri": "https://localhost:8080/",
          "height": 206
        }
      },
      "execution_count": 3,
      "outputs": [
        {
          "output_type": "execute_result",
          "data": {
            "text/plain": [
              "                                                 url  type\n",
              "0                                   br-icloud.com.br     0\n",
              "1                mp3raid.com/music/krizz_kaliko.html     1\n",
              "2                    bopsecrets.org/rexroth/cr/1.htm     1\n",
              "3  http://www.garage-pirenne.be/index.php?option=...     0\n",
              "4  http://adventure-nicaragua.net/index.php?optio...     0"
            ],
            "text/html": [
              "\n",
              "  <div id=\"df-207e6abc-bcde-458a-8243-ddf995176666\">\n",
              "    <div class=\"colab-df-container\">\n",
              "      <div>\n",
              "<style scoped>\n",
              "    .dataframe tbody tr th:only-of-type {\n",
              "        vertical-align: middle;\n",
              "    }\n",
              "\n",
              "    .dataframe tbody tr th {\n",
              "        vertical-align: top;\n",
              "    }\n",
              "\n",
              "    .dataframe thead th {\n",
              "        text-align: right;\n",
              "    }\n",
              "</style>\n",
              "<table border=\"1\" class=\"dataframe\">\n",
              "  <thead>\n",
              "    <tr style=\"text-align: right;\">\n",
              "      <th></th>\n",
              "      <th>url</th>\n",
              "      <th>type</th>\n",
              "    </tr>\n",
              "  </thead>\n",
              "  <tbody>\n",
              "    <tr>\n",
              "      <th>0</th>\n",
              "      <td>br-icloud.com.br</td>\n",
              "      <td>0</td>\n",
              "    </tr>\n",
              "    <tr>\n",
              "      <th>1</th>\n",
              "      <td>mp3raid.com/music/krizz_kaliko.html</td>\n",
              "      <td>1</td>\n",
              "    </tr>\n",
              "    <tr>\n",
              "      <th>2</th>\n",
              "      <td>bopsecrets.org/rexroth/cr/1.htm</td>\n",
              "      <td>1</td>\n",
              "    </tr>\n",
              "    <tr>\n",
              "      <th>3</th>\n",
              "      <td>http://www.garage-pirenne.be/index.php?option=...</td>\n",
              "      <td>0</td>\n",
              "    </tr>\n",
              "    <tr>\n",
              "      <th>4</th>\n",
              "      <td>http://adventure-nicaragua.net/index.php?optio...</td>\n",
              "      <td>0</td>\n",
              "    </tr>\n",
              "  </tbody>\n",
              "</table>\n",
              "</div>\n",
              "      <button class=\"colab-df-convert\" onclick=\"convertToInteractive('df-207e6abc-bcde-458a-8243-ddf995176666')\"\n",
              "              title=\"Convert this dataframe to an interactive table.\"\n",
              "              style=\"display:none;\">\n",
              "        \n",
              "  <svg xmlns=\"http://www.w3.org/2000/svg\" height=\"24px\"viewBox=\"0 0 24 24\"\n",
              "       width=\"24px\">\n",
              "    <path d=\"M0 0h24v24H0V0z\" fill=\"none\"/>\n",
              "    <path d=\"M18.56 5.44l.94 2.06.94-2.06 2.06-.94-2.06-.94-.94-2.06-.94 2.06-2.06.94zm-11 1L8.5 8.5l.94-2.06 2.06-.94-2.06-.94L8.5 2.5l-.94 2.06-2.06.94zm10 10l.94 2.06.94-2.06 2.06-.94-2.06-.94-.94-2.06-.94 2.06-2.06.94z\"/><path d=\"M17.41 7.96l-1.37-1.37c-.4-.4-.92-.59-1.43-.59-.52 0-1.04.2-1.43.59L10.3 9.45l-7.72 7.72c-.78.78-.78 2.05 0 2.83L4 21.41c.39.39.9.59 1.41.59.51 0 1.02-.2 1.41-.59l7.78-7.78 2.81-2.81c.8-.78.8-2.07 0-2.86zM5.41 20L4 18.59l7.72-7.72 1.47 1.35L5.41 20z\"/>\n",
              "  </svg>\n",
              "      </button>\n",
              "      \n",
              "  <style>\n",
              "    .colab-df-container {\n",
              "      display:flex;\n",
              "      flex-wrap:wrap;\n",
              "      gap: 12px;\n",
              "    }\n",
              "\n",
              "    .colab-df-convert {\n",
              "      background-color: #E8F0FE;\n",
              "      border: none;\n",
              "      border-radius: 50%;\n",
              "      cursor: pointer;\n",
              "      display: none;\n",
              "      fill: #1967D2;\n",
              "      height: 32px;\n",
              "      padding: 0 0 0 0;\n",
              "      width: 32px;\n",
              "    }\n",
              "\n",
              "    .colab-df-convert:hover {\n",
              "      background-color: #E2EBFA;\n",
              "      box-shadow: 0px 1px 2px rgba(60, 64, 67, 0.3), 0px 1px 3px 1px rgba(60, 64, 67, 0.15);\n",
              "      fill: #174EA6;\n",
              "    }\n",
              "\n",
              "    [theme=dark] .colab-df-convert {\n",
              "      background-color: #3B4455;\n",
              "      fill: #D2E3FC;\n",
              "    }\n",
              "\n",
              "    [theme=dark] .colab-df-convert:hover {\n",
              "      background-color: #434B5C;\n",
              "      box-shadow: 0px 1px 3px 1px rgba(0, 0, 0, 0.15);\n",
              "      filter: drop-shadow(0px 1px 2px rgba(0, 0, 0, 0.3));\n",
              "      fill: #FFFFFF;\n",
              "    }\n",
              "  </style>\n",
              "\n",
              "      <script>\n",
              "        const buttonEl =\n",
              "          document.querySelector('#df-207e6abc-bcde-458a-8243-ddf995176666 button.colab-df-convert');\n",
              "        buttonEl.style.display =\n",
              "          google.colab.kernel.accessAllowed ? 'block' : 'none';\n",
              "\n",
              "        async function convertToInteractive(key) {\n",
              "          const element = document.querySelector('#df-207e6abc-bcde-458a-8243-ddf995176666');\n",
              "          const dataTable =\n",
              "            await google.colab.kernel.invokeFunction('convertToInteractive',\n",
              "                                                     [key], {});\n",
              "          if (!dataTable) return;\n",
              "\n",
              "          const docLinkHtml = 'Like what you see? Visit the ' +\n",
              "            '<a target=\"_blank\" href=https://colab.research.google.com/notebooks/data_table.ipynb>data table notebook</a>'\n",
              "            + ' to learn more about interactive tables.';\n",
              "          element.innerHTML = '';\n",
              "          dataTable['output_type'] = 'display_data';\n",
              "          await google.colab.output.renderOutput(dataTable, element);\n",
              "          const docLink = document.createElement('div');\n",
              "          docLink.innerHTML = docLinkHtml;\n",
              "          element.appendChild(docLink);\n",
              "        }\n",
              "      </script>\n",
              "    </div>\n",
              "  </div>\n",
              "  "
            ]
          },
          "metadata": {},
          "execution_count": 3
        }
      ]
    },
    {
      "cell_type": "code",
      "source": [
        "def train_random_forest(X_train, X_test, y_train, y_test, n_estimators=100, max_depth=20, use_vectorizor=True):\n",
        "    # Extract features from the links using CountVectorizer\n",
        "    if use_vectorizor:\n",
        "      vectorizer = CountVectorizer()\n",
        "      X_train = vectorizer.fit_transform(X_train)\n",
        "      X_test = vectorizer.transform(X_test)\n",
        "\n",
        "    # Create a random forest classifier\n",
        "    clf = RandomForestClassifier(n_estimators=n_estimators, max_depth=max_depth, random_state=42)\n",
        "\n",
        "    # Train the model on the training data\n",
        "    #print(\"Training...\")\n",
        "    clf.fit(X_train, y_train)\n",
        "\n",
        "    # Evaluate the model on the testing data\n",
        "    #print(\"Evaluating...\")\n",
        "    y_pred = clf.predict(X_test)\n",
        "    accuracy = accuracy_score(y_test, y_pred)\n",
        "    \n",
        "    # Return the trained model and accuracy\n",
        "    return clf, accuracy"
      ],
      "metadata": {
        "id": "BYZycwYc0dZk"
      },
      "execution_count": 4,
      "outputs": []
    },
    {
      "cell_type": "code",
      "source": [
        "# Split the dataset into training and testing sets\n",
        "X_train, X_test, y_train, y_test = train_test_split(df['url'], df['type'], test_size=0.2, random_state=42)"
      ],
      "metadata": {
        "id": "Kz598Xww1OQz"
      },
      "execution_count": 5,
      "outputs": []
    },
    {
      "cell_type": "code",
      "source": [
        "clf, accuracy = train_random_forest(X_train, X_test, y_train, y_test)\n",
        "print('Accuracy:', accuracy)"
      ],
      "metadata": {
        "id": "FZdlXWS11fqW",
        "outputId": "c36c5dcf-ad7a-43f0-a489-308a41ba44a5",
        "colab": {
          "base_uri": "https://localhost:8080/"
        }
      },
      "execution_count": 6,
      "outputs": [
        {
          "output_type": "stream",
          "name": "stdout",
          "text": [
            "Accuracy: 0.8327588492642185\n"
          ]
        }
      ]
    },
    {
      "cell_type": "code",
      "source": [
        "# Test each combination of hyperparameter values\n",
        "def test_hyperparameters(X_train, X_test, y_train, y_test, n_estimators_values=50, max_depth_values=60, use_vectorizor=True):\n",
        "  accuracy_scores = []\n",
        "  for n_estimators in n_estimators_values:\n",
        "      for max_depth in max_depth_values:\n",
        "          print('Testing with n_estimators={}, max_depth={}'.format(n_estimators, max_depth))\n",
        "          \n",
        "          # Train and evaluate the random forest model\n",
        "          clf, accuracy = train_random_forest(X_train, X_test, y_train, y_test, n_estimators=n_estimators, max_depth=max_depth, use_vectorizor=use_vectorizor)\n",
        "          accuracy_scores.append(accuracy)\n",
        "\n",
        "  # Plot the results in a heatmap\n",
        "  accuracy_matrix = np.array(accuracy_scores).reshape(len(n_estimators_values), len(max_depth_values))\n",
        "  sns.heatmap(accuracy_matrix, annot=True, xticklabels=max_depth_values, yticklabels=n_estimators_values)\n",
        "  plt.xlabel('Max Depth')\n",
        "  plt.ylabel('Number of Estimators')\n",
        "  plt.title('Accuracy of Random Forest Model')\n",
        "  plt.show()"
      ],
      "metadata": {
        "id": "2HiyiLhY13Rw"
      },
      "execution_count": 7,
      "outputs": []
    },
    {
      "cell_type": "code",
      "source": [
        "# Define the hyperparameter values to test\n",
        "n_estimators_values = [50, 100, 150]\n",
        "max_depth_values = [10, 20, 30]\n",
        "\n",
        "# Split the dataset into training and testing sets\n",
        "X_train, X_test, y_train, y_test = train_test_split(df['url'], df['type'], test_size=0.2, random_state=42)\n",
        "\n",
        "test_hyperparameters(X_train, X_test, y_train, y_test, n_estimators_values, max_depth_values)"
      ],
      "metadata": {
        "id": "cWSJWsD36oF_",
        "outputId": "78b32082-935b-412d-de29-3b1f02713f3a",
        "colab": {
          "base_uri": "https://localhost:8080/",
          "height": 628
        }
      },
      "execution_count": 8,
      "outputs": [
        {
          "output_type": "stream",
          "name": "stdout",
          "text": [
            "Testing with n_estimators=50, max_depth=10\n",
            "Testing with n_estimators=50, max_depth=20\n",
            "Testing with n_estimators=50, max_depth=30\n",
            "Testing with n_estimators=100, max_depth=10\n",
            "Testing with n_estimators=100, max_depth=20\n",
            "Testing with n_estimators=100, max_depth=30\n",
            "Testing with n_estimators=150, max_depth=10\n",
            "Testing with n_estimators=150, max_depth=20\n",
            "Testing with n_estimators=150, max_depth=30\n"
          ]
        },
        {
          "output_type": "display_data",
          "data": {
            "text/plain": [
              "<Figure size 640x480 with 2 Axes>"
            ],
            "image/png": "[encoded data removed]"
          },
          "metadata": {}
        }
      ]
    },
    {
      "cell_type": "markdown",
      "source": [
        "### Number of estimators does not have a serious impact on the model but max depth have"
      ],
      "metadata": {
        "id": "LgIYQu_TAau2"
      }
    },
    {
      "cell_type": "code",
      "source": [
        "# Values for max_depth\n",
        "n_estimators_values = [50]\n",
        "max_depth_values = [30, 40, 50, 60, 70, 80, 90]\n",
        "# Split the dataset into training and testing sets\n",
        "X_train, X_test, y_train, y_test = train_test_split(df['url'], df['type'], test_size=0.2, random_state=42)\n",
        "\n",
        "test_hyperparameters(X_train, X_test, y_train, y_test, n_estimators_values, max_depth_values)"
      ],
      "metadata": {
        "id": "JlHLw__J8dXf",
        "colab": {
          "base_uri": "https://localhost:8080/",
          "height": 594
        },
        "outputId": "f3764a21-e8a1-4d60-ddd1-b99617e256ac"
      },
      "execution_count": 9,
      "outputs": [
        {
          "output_type": "stream",
          "name": "stdout",
          "text": [
            "Testing with n_estimators=50, max_depth=30\n",
            "Testing with n_estimators=50, max_depth=40\n",
            "Testing with n_estimators=50, max_depth=50\n",
            "Testing with n_estimators=50, max_depth=60\n",
            "Testing with n_estimators=50, max_depth=70\n",
            "Testing with n_estimators=50, max_depth=80\n",
            "Testing with n_estimators=50, max_depth=90\n"
          ]
        },
        {
          "output_type": "display_data",
          "data": {
            "text/plain": [
              "<Figure size 640x480 with 2 Axes>"
            ],
            "image/png": "[encoded data removed]"
          },
          "metadata": {}
        }
      ]
    },
    {
      "cell_type": "markdown",
      "source": [
        "Currently, n_estimator = 50 and max_depth = 60"
      ],
      "metadata": {
        "id": "w-G6ioQtD8J_"
      }
    },
    {
      "cell_type": "markdown",
      "source": [
        "### Giving more featues from EDA stage "
      ],
      "metadata": {
        "id": "WuF4nGcNCvbk"
      }
    },
    {
      "cell_type": "code",
      "source": [
        "def process_tld(url):\n",
        "    try:\n",
        "        res = get_tld(url, as_object = True, fail_silently=False,fix_protocol=True)\n",
        "        pri_domain= res.parsed_url.netloc\n",
        "    except :\n",
        "        pri_domain= None\n",
        "    return pri_domain\n",
        "\n",
        "def abnormal_url(url):\n",
        "    hostname = urlparse(url).hostname\n",
        "    hostname = str(hostname)\n",
        "    match = re.search(hostname, url)\n",
        "    if match:\n",
        "        # print match.group()\n",
        "        return 1\n",
        "    else:\n",
        "        # print 'No matching pattern found'\n",
        "        return 0\n",
        "\n",
        "def httpSecure(url):\n",
        "    htp = urlparse(url).scheme\n",
        "    match = str(htp)\n",
        "    if match=='https':\n",
        "        # print match.group()\n",
        "        return 1\n",
        "    else:\n",
        "        # print 'No matching pattern found'\n",
        "        return 0\n",
        "\n",
        "def digit_count(url):\n",
        "    digits = 0\n",
        "    for i in url:\n",
        "        if i.isnumeric():\n",
        "            digits = digits + 1\n",
        "    return digits\n",
        "\n",
        "def letter_count(url):\n",
        "    letters = 0\n",
        "    for i in url:\n",
        "        if i.isalpha():\n",
        "            letters = letters + 1\n",
        "    return letters\n",
        "\n",
        "def Shortining_Service(url):\n",
        "    match = re.search('bit\\.ly|goo\\.gl|shorte\\.st|go2l\\.ink|x\\.co|ow\\.ly|t\\.co|tinyurl|tr\\.im|is\\.gd|cli\\.gs|'\n",
        "                      'yfrog\\.com|migre\\.me|ff\\.im|tiny\\.cc|url4\\.eu|twit\\.ac|su\\.pr|twurl\\.nl|snipurl\\.com|'\n",
        "                      'short\\.to|BudURL\\.com|ping\\.fm|post\\.ly|Just\\.as|bkite\\.com|snipr\\.com|fic\\.kr|loopt\\.us|'\n",
        "                      'doiop\\.com|short\\.ie|kl\\.am|wp\\.me|rubyurl\\.com|om\\.ly|to\\.ly|bit\\.do|t\\.co|lnkd\\.in|'\n",
        "                      'db\\.tt|qr\\.ae|adf\\.ly|goo\\.gl|bitly\\.com|cur\\.lv|tinyurl\\.com|ow\\.ly|bit\\.ly|ity\\.im|'\n",
        "                      'q\\.gs|is\\.gd|po\\.st|bc\\.vc|twitthis\\.com|u\\.to|j\\.mp|buzurl\\.com|cutt\\.us|u\\.bb|yourls\\.org|'\n",
        "                      'x\\.co|prettylinkpro\\.com|scrnch\\.me|filoops\\.info|vzturl\\.com|qr\\.net|1url\\.com|tweez\\.me|v\\.gd|'\n",
        "                      'tr\\.im|link\\.zip\\.net',\n",
        "                      url)\n",
        "    if match:\n",
        "        return 1\n",
        "    else:\n",
        "        return 0\n",
        "    \n",
        "def having_ip_address(url):\n",
        "    match = re.search(\n",
        "        '(([01]?\\d\\d?|2[0-4]\\d|25[0-5])\\.([01]?\\d\\d?|2[0-4]\\d|25[0-5])\\.([01]?\\d\\d?|2[0-4]\\d|25[0-5])\\.'\n",
        "        '([01]?\\d\\d?|2[0-4]\\d|25[0-5])\\/)|'  # IPv4\n",
        "        '(([01]?\\d\\d?|2[0-4]\\d|25[0-5])\\.([01]?\\d\\d?|2[0-4]\\d|25[0-5])\\.([01]?\\d\\d?|2[0-4]\\d|25[0-5])\\.'\n",
        "        '([01]?\\d\\d?|2[0-4]\\d|25[0-5])\\/)|'  # IPv4 with port\n",
        "        '((0x[0-9a-fA-F]{1,2})\\.(0x[0-9a-fA-F]{1,2})\\.(0x[0-9a-fA-F]{1,2})\\.(0x[0-9a-fA-F]{1,2})\\/)' # IPv4 in hexadecimal\n",
        "        '(?:[a-fA-F0-9]{1,4}:){7}[a-fA-F0-9]{1,4}|'\n",
        "        '([0-9]+(?:\\.[0-9]+){3}:[0-9]+)|'\n",
        "        '((?:(?:\\d|[01]?\\d\\d|2[0-4]\\d|25[0-5])\\.){3}(?:25[0-5]|2[0-4]\\d|[01]?\\d\\d|\\d)(?:\\/\\d{1,2})?)', url)  # Ipv6\n",
        "    if match:\n",
        "        return 1\n",
        "    else:\n",
        "        return 0"
      ],
      "metadata": {
        "id": "4hIbibLSEgir"
      },
      "execution_count": 10,
      "outputs": []
    },
    {
      "cell_type": "code",
      "source": [
        "def preprocessing_urls(df):\n",
        "  data = df.copy()\n",
        "  data['url'] = data['url'].replace('www.', '', regex=True)\n",
        "  data['url_len'] = data['url'].apply(lambda x: len(str(x)))\n",
        "  data['domain'] = data['url'].apply(lambda i: process_tld(i))\n",
        "  feature = ['@','?','-','=','.','#','%','+','$','!','*',',','//']\n",
        "  for a in feature:\n",
        "      data[a] = data['url'].apply(lambda i: i.count(a))\n",
        "  data['abnormal_url'] = data['url'].apply(lambda i: abnormal_url(i))\n",
        "  data['digits']= data['url'].apply(lambda i: digit_count(i))\n",
        "  data['letters']= data['url'].apply(lambda i: letter_count(i))\n",
        "  data['Shortining_Service'] = data['url'].apply(lambda x: Shortining_Service(x))\n",
        "  data['having_ip_address'] = data['url'].apply(lambda i: having_ip_address(i))\n",
        "  return data"
      ],
      "metadata": {
        "id": "QOLvEzrtCrWz"
      },
      "execution_count": 11,
      "outputs": []
    },
    {
      "cell_type": "code",
      "source": [
        "df = preprocessing_urls(df_orig)\n",
        "df['type'] = df['type'].apply(lambda x: 1 if x == 'benign' else 0)\n",
        "df.head()"
      ],
      "metadata": {
        "colab": {
          "base_uri": "https://localhost:8080/",
          "height": 236
        },
        "id": "kDqHqFseLriF",
        "outputId": "8d036b6c-a6a6-4fd0-f593-a7ecebfbae52"
      },
      "execution_count": 12,
      "outputs": [
        {
          "output_type": "execute_result",
          "data": {
            "text/plain": [
              "                                                 url  type  url_len  \\\n",
              "0                                   br-icloud.com.br     0       16   \n",
              "1                mp3raid.com/music/krizz_kaliko.html     1       35   \n",
              "2                    bopsecrets.org/rexroth/cr/1.htm     1       31   \n",
              "3  http://garage-pirenne.be/index.php?option=com_...     0       84   \n",
              "4  http://adventure-nicaragua.net/index.php?optio...     0      235   \n",
              "\n",
              "                    domain  @  ?  -  =  .  #  ...  $  !  *  ,  //  \\\n",
              "0         br-icloud.com.br  0  0  1  0  2  0  ...  0  0  0  0   0   \n",
              "1              mp3raid.com  0  0  0  0  2  0  ...  0  0  0  0   0   \n",
              "2           bopsecrets.org  0  0  0  0  2  0  ...  0  0  0  0   0   \n",
              "3        garage-pirenne.be  0  1  1  4  2  0  ...  0  0  0  0   1   \n",
              "4  adventure-nicaragua.net  0  1  1  3  2  0  ...  0  0  0  0   1   \n",
              "\n",
              "   abnormal_url  digits  letters  Shortining_Service  having_ip_address  \n",
              "0             0       0       13                   0                  0  \n",
              "1             0       1       29                   0                  0  \n",
              "2             0       1       25                   0                  0  \n",
              "3             1       7       60                   0                  0  \n",
              "4             1      22      199                   0                  0  \n",
              "\n",
              "[5 rows x 22 columns]"
            ],
            "text/html": [
              "\n",
              "  <div id=\"df-e27d6cfc-870e-4927-aaf9-e41e999b30d0\">\n",
              "    <div class=\"colab-df-container\">\n",
              "      <div>\n",
              "<style scoped>\n",
              "    .dataframe tbody tr th:only-of-type {\n",
              "        vertical-align: middle;\n",
              "    }\n",
              "\n",
              "    .dataframe tbody tr th {\n",
              "        vertical-align: top;\n",
              "    }\n",
              "\n",
              "    .dataframe thead th {\n",
              "        text-align: right;\n",
              "    }\n",
              "</style>\n",
              "<table border=\"1\" class=\"dataframe\">\n",
              "  <thead>\n",
              "    <tr style=\"text-align: right;\">\n",
              "      <th></th>\n",
              "      <th>url</th>\n",
              "      <th>type</th>\n",
              "      <th>url_len</th>\n",
              "      <th>domain</th>\n",
              "      <th>@</th>\n",
              "      <th>?</th>\n",
              "      <th>-</th>\n",
              "      <th>=</th>\n",
              "      <th>.</th>\n",
              "      <th>#</th>\n",
              "      <th>...</th>\n",
              "      <th>$</th>\n",
              "      <th>!</th>\n",
              "      <th>*</th>\n",
              "      <th>,</th>\n",
              "      <th>//</th>\n",
              "      <th>abnormal_url</th>\n",
              "      <th>digits</th>\n",
              "      <th>letters</th>\n",
              "      <th>Shortining_Service</th>\n",
              "      <th>having_ip_address</th>\n",
              "    </tr>\n",
              "  </thead>\n",
              "  <tbody>\n",
              "    <tr>\n",
              "      <th>0</th>\n",
              "      <td>br-icloud.com.br</td>\n",
              "      <td>0</td>\n",
              "      <td>16</td>\n",
              "      <td>br-icloud.com.br</td>\n",
              "      <td>0</td>\n",
              "      <td>0</td>\n",
              "      <td>1</td>\n",
              "      <td>0</td>\n",
              "      <td>2</td>\n",
              "      <td>0</td>\n",
              "      <td>...</td>\n",
              "      <td>0</td>\n",
              "      <td>0</td>\n",
              "      <td>0</td>\n",
              "      <td>0</td>\n",
              "      <td>0</td>\n",
              "      <td>0</td>\n",
              "      <td>0</td>\n",
              "      <td>13</td>\n",
              "      <td>0</td>\n",
              "      <td>0</td>\n",
              "    </tr>\n",
              "    <tr>\n",
              "      <th>1</th>\n",
              "      <td>mp3raid.com/music/krizz_kaliko.html</td>\n",
              "      <td>1</td>\n",
              "      <td>35</td>\n",
              "      <td>mp3raid.com</td>\n",
              "      <td>0</td>\n",
              "      <td>0</td>\n",
              "      <td>0</td>\n",
              "      <td>0</td>\n",
              "      <td>2</td>\n",
              "      <td>0</td>\n",
              "      <td>...</td>\n",
              "      <td>0</td>\n",
              "      <td>0</td>\n",
              "      <td>0</td>\n",
              "      <td>0</td>\n",
              "      <td>0</td>\n",
              "      <td>0</td>\n",
              "      <td>1</td>\n",
              "      <td>29</td>\n",
              "      <td>0</td>\n",
              "      <td>0</td>\n",
              "    </tr>\n",
              "    <tr>\n",
              "      <th>2</th>\n",
              "      <td>bopsecrets.org/rexroth/cr/1.htm</td>\n",
              "      <td>1</td>\n",
              "      <td>31</td>\n",
              "      <td>bopsecrets.org</td>\n",
              "      <td>0</td>\n",
              "      <td>0</td>\n",
              "      <td>0</td>\n",
              "      <td>0</td>\n",
              "      <td>2</td>\n",
              "      <td>0</td>\n",
              "      <td>...</td>\n",
              "      <td>0</td>\n",
              "      <td>0</td>\n",
              "      <td>0</td>\n",
              "      <td>0</td>\n",
              "      <td>0</td>\n",
              "      <td>0</td>\n",
              "      <td>1</td>\n",
              "      <td>25</td>\n",
              "      <td>0</td>\n",
              "      <td>0</td>\n",
              "    </tr>\n",
              "    <tr>\n",
              "      <th>3</th>\n",
              "      <td>http://garage-pirenne.be/index.php?option=com_...</td>\n",
              "      <td>0</td>\n",
              "      <td>84</td>\n",
              "      <td>garage-pirenne.be</td>\n",
              "      <td>0</td>\n",
              "      <td>1</td>\n",
              "      <td>1</td>\n",
              "      <td>4</td>\n",
              "      <td>2</td>\n",
              "      <td>0</td>\n",
              "      <td>...</td>\n",
              "      <td>0</td>\n",
              "      <td>0</td>\n",
              "      <td>0</td>\n",
              "      <td>0</td>\n",
              "      <td>1</td>\n",
              "      <td>1</td>\n",
              "      <td>7</td>\n",
              "      <td>60</td>\n",
              "      <td>0</td>\n",
              "      <td>0</td>\n",
              "    </tr>\n",
              "    <tr>\n",
              "      <th>4</th>\n",
              "      <td>http://adventure-nicaragua.net/index.php?optio...</td>\n",
              "      <td>0</td>\n",
              "      <td>235</td>\n",
              "      <td>adventure-nicaragua.net</td>\n",
              "      <td>0</td>\n",
              "      <td>1</td>\n",
              "      <td>1</td>\n",
              "      <td>3</td>\n",
              "      <td>2</td>\n",
              "      <td>0</td>\n",
              "      <td>...</td>\n",
              "      <td>0</td>\n",
              "      <td>0</td>\n",
              "      <td>0</td>\n",
              "      <td>0</td>\n",
              "      <td>1</td>\n",
              "      <td>1</td>\n",
              "      <td>22</td>\n",
              "      <td>199</td>\n",
              "      <td>0</td>\n",
              "      <td>0</td>\n",
              "    </tr>\n",
              "  </tbody>\n",
              "</table>\n",
              "<p>5 rows × 22 columns</p>\n",
              "</div>\n",
              "      <button class=\"colab-df-convert\" onclick=\"convertToInteractive('df-e27d6cfc-870e-4927-aaf9-e41e999b30d0')\"\n",
              "              title=\"Convert this dataframe to an interactive table.\"\n",
              "              style=\"display:none;\">\n",
              "        \n",
              "  <svg xmlns=\"http://www.w3.org/2000/svg\" height=\"24px\"viewBox=\"0 0 24 24\"\n",
              "       width=\"24px\">\n",
              "    <path d=\"M0 0h24v24H0V0z\" fill=\"none\"/>\n",
              "    <path d=\"M18.56 5.44l.94 2.06.94-2.06 2.06-.94-2.06-.94-.94-2.06-.94 2.06-2.06.94zm-11 1L8.5 8.5l.94-2.06 2.06-.94-2.06-.94L8.5 2.5l-.94 2.06-2.06.94zm10 10l.94 2.06.94-2.06 2.06-.94-2.06-.94-.94-2.06-.94 2.06-2.06.94z\"/><path d=\"M17.41 7.96l-1.37-1.37c-.4-.4-.92-.59-1.43-.59-.52 0-1.04.2-1.43.59L10.3 9.45l-7.72 7.72c-.78.78-.78 2.05 0 2.83L4 21.41c.39.39.9.59 1.41.59.51 0 1.02-.2 1.41-.59l7.78-7.78 2.81-2.81c.8-.78.8-2.07 0-2.86zM5.41 20L4 18.59l7.72-7.72 1.47 1.35L5.41 20z\"/>\n",
              "  </svg>\n",
              "      </button>\n",
              "      \n",
              "  <style>\n",
              "    .colab-df-container {\n",
              "      display:flex;\n",
              "      flex-wrap:wrap;\n",
              "      gap: 12px;\n",
              "    }\n",
              "\n",
              "    .colab-df-convert {\n",
              "      background-color: #E8F0FE;\n",
              "      border: none;\n",
              "      border-radius: 50%;\n",
              "      cursor: pointer;\n",
              "      display: none;\n",
              "      fill: #1967D2;\n",
              "      height: 32px;\n",
              "      padding: 0 0 0 0;\n",
              "      width: 32px;\n",
              "    }\n",
              "\n",
              "    .colab-df-convert:hover {\n",
              "      background-color: #E2EBFA;\n",
              "      box-shadow: 0px 1px 2px rgba(60, 64, 67, 0.3), 0px 1px 3px 1px rgba(60, 64, 67, 0.15);\n",
              "      fill: #174EA6;\n",
              "    }\n",
              "\n",
              "    [theme=dark] .colab-df-convert {\n",
              "      background-color: #3B4455;\n",
              "      fill: #D2E3FC;\n",
              "    }\n",
              "\n",
              "    [theme=dark] .colab-df-convert:hover {\n",
              "      background-color: #434B5C;\n",
              "      box-shadow: 0px 1px 3px 1px rgba(0, 0, 0, 0.15);\n",
              "      filter: drop-shadow(0px 1px 2px rgba(0, 0, 0, 0.3));\n",
              "      fill: #FFFFFF;\n",
              "    }\n",
              "  </style>\n",
              "\n",
              "      <script>\n",
              "        const buttonEl =\n",
              "          document.querySelector('#df-e27d6cfc-870e-4927-aaf9-e41e999b30d0 button.colab-df-convert');\n",
              "        buttonEl.style.display =\n",
              "          google.colab.kernel.accessAllowed ? 'block' : 'none';\n",
              "\n",
              "        async function convertToInteractive(key) {\n",
              "          const element = document.querySelector('#df-e27d6cfc-870e-4927-aaf9-e41e999b30d0');\n",
              "          const dataTable =\n",
              "            await google.colab.kernel.invokeFunction('convertToInteractive',\n",
              "                                                     [key], {});\n",
              "          if (!dataTable) return;\n",
              "\n",
              "          const docLinkHtml = 'Like what you see? Visit the ' +\n",
              "            '<a target=\"_blank\" href=https://colab.research.google.com/notebooks/data_table.ipynb>data table notebook</a>'\n",
              "            + ' to learn more about interactive tables.';\n",
              "          element.innerHTML = '';\n",
              "          dataTable['output_type'] = 'display_data';\n",
              "          await google.colab.output.renderOutput(dataTable, element);\n",
              "          const docLink = document.createElement('div');\n",
              "          docLink.innerHTML = docLinkHtml;\n",
              "          element.appendChild(docLink);\n",
              "        }\n",
              "      </script>\n",
              "    </div>\n",
              "  </div>\n",
              "  "
            ]
          },
          "metadata": {},
          "execution_count": 12
        }
      ]
    },
    {
      "cell_type": "code",
      "source": [
        "features = ['url_len', '@', '?', '-', '=', '.', '#', '%',\n",
        "       '+', '$', '!', '*', ',', '//', 'abnormal_url', 'digits', 'letters',\n",
        "       'Shortining_Service', 'having_ip_address']"
      ],
      "metadata": {
        "id": "McdvOzZ_qI8T"
      },
      "execution_count": 13,
      "outputs": []
    },
    {
      "cell_type": "code",
      "source": [
        "# Split the dataset into training and testing sets\n",
        "X_train, X_test, y_train, y_test = train_test_split(df[features], df['type'], test_size=0.2, random_state=42)"
      ],
      "metadata": {
        "id": "mUH6lIeZMa9w"
      },
      "execution_count": 14,
      "outputs": []
    },
    {
      "cell_type": "code",
      "source": [
        "# Define the hyperparameter values to test\n",
        "n_estimators_values = [50, 100]\n",
        "max_depth_values = [10, 20, 30, 40]\n",
        "test_hyperparameters(X_train, X_test, y_train, y_test, n_estimators_values, max_depth_values, False)"
      ],
      "metadata": {
        "id": "FpYfOTWQMl8T",
        "colab": {
          "base_uri": "https://localhost:8080/",
          "height": 611
        },
        "outputId": "b0307639-69c6-44cd-f934-0026003e522e"
      },
      "execution_count": 15,
      "outputs": [
        {
          "output_type": "stream",
          "name": "stdout",
          "text": [
            "Testing with n_estimators=50, max_depth=10\n",
            "Testing with n_estimators=50, max_depth=20\n",
            "Testing with n_estimators=50, max_depth=30\n",
            "Testing with n_estimators=50, max_depth=40\n",
            "Testing with n_estimators=100, max_depth=10\n",
            "Testing with n_estimators=100, max_depth=20\n",
            "Testing with n_estimators=100, max_depth=30\n",
            "Testing with n_estimators=100, max_depth=40\n"
          ]
        },
        {
          "output_type": "display_data",
          "data": {
            "text/plain": [
              "<Figure size 640x480 with 2 Axes>"
            ],
            "image/png": "[encoded data removed]"
          },
          "metadata": {}
        }
      ]
    },
    {
      "cell_type": "markdown",
      "source": [
        "We achived 99% accuracy at number of estimators=50 and max depth=30 for binary classification\n",
        "\n"
      ],
      "metadata": {
        "id": "w3tX1ns4NfJ0"
      }
    },
    {
      "cell_type": "markdown",
      "source": [
        "# Try for multi-class "
      ],
      "metadata": {
        "id": "psSJgsk6R8Bm"
      }
    },
    {
      "cell_type": "code",
      "source": [
        "# Load the dataset again\n",
        "df_orig = pd.read_csv('data/malicious_phish.csv')\n",
        "df = df_orig.copy()\n",
        "rem = {\"Category\": {\"benign\": 0, \"defacement\": 1, \"phishing\":2, \"malware\":3}}\n",
        "df['Category'] = df['type']\n",
        "df = df.replace(rem)\n",
        "df = df.dropna()\n",
        "df.head()"
      ],
      "metadata": {
        "id": "UNfSvi3BOPPt",
        "colab": {
          "base_uri": "https://localhost:8080/",
          "height": 206
        },
        "outputId": "1f7a5e5d-ebe3-469f-8a73-5210c317206d"
      },
      "execution_count": 20,
      "outputs": [
        {
          "output_type": "execute_result",
          "data": {
            "text/plain": [
              "                                                 url        type  Category\n",
              "0                                   br-icloud.com.br    phishing       2.0\n",
              "1                mp3raid.com/music/krizz_kaliko.html      benign       0.0\n",
              "2                    bopsecrets.org/rexroth/cr/1.htm      benign       0.0\n",
              "3  http://www.garage-pirenne.be/index.php?option=...  defacement       1.0\n",
              "4  http://adventure-nicaragua.net/index.php?optio...  defacement       1.0"
            ],
            "text/html": [
              "\n",
              "  <div id=\"df-7774d05c-648a-4a24-91ca-6e77662dc507\">\n",
              "    <div class=\"colab-df-container\">\n",
              "      <div>\n",
              "<style scoped>\n",
              "    .dataframe tbody tr th:only-of-type {\n",
              "        vertical-align: middle;\n",
              "    }\n",
              "\n",
              "    .dataframe tbody tr th {\n",
              "        vertical-align: top;\n",
              "    }\n",
              "\n",
              "    .dataframe thead th {\n",
              "        text-align: right;\n",
              "    }\n",
              "</style>\n",
              "<table border=\"1\" class=\"dataframe\">\n",
              "  <thead>\n",
              "    <tr style=\"text-align: right;\">\n",
              "      <th></th>\n",
              "      <th>url</th>\n",
              "      <th>type</th>\n",
              "      <th>Category</th>\n",
              "    </tr>\n",
              "  </thead>\n",
              "  <tbody>\n",
              "    <tr>\n",
              "      <th>0</th>\n",
              "      <td>br-icloud.com.br</td>\n",
              "      <td>phishing</td>\n",
              "      <td>2.0</td>\n",
              "    </tr>\n",
              "    <tr>\n",
              "      <th>1</th>\n",
              "      <td>mp3raid.com/music/krizz_kaliko.html</td>\n",
              "      <td>benign</td>\n",
              "      <td>0.0</td>\n",
              "    </tr>\n",
              "    <tr>\n",
              "      <th>2</th>\n",
              "      <td>bopsecrets.org/rexroth/cr/1.htm</td>\n",
              "      <td>benign</td>\n",
              "      <td>0.0</td>\n",
              "    </tr>\n",
              "    <tr>\n",
              "      <th>3</th>\n",
              "      <td>http://www.garage-pirenne.be/index.php?option=...</td>\n",
              "      <td>defacement</td>\n",
              "      <td>1.0</td>\n",
              "    </tr>\n",
              "    <tr>\n",
              "      <th>4</th>\n",
              "      <td>http://adventure-nicaragua.net/index.php?optio...</td>\n",
              "      <td>defacement</td>\n",
              "      <td>1.0</td>\n",
              "    </tr>\n",
              "  </tbody>\n",
              "</table>\n",
              "</div>\n",
              "      <button class=\"colab-df-convert\" onclick=\"convertToInteractive('df-7774d05c-648a-4a24-91ca-6e77662dc507')\"\n",
              "              title=\"Convert this dataframe to an interactive table.\"\n",
              "              style=\"display:none;\">\n",
              "        \n",
              "  <svg xmlns=\"http://www.w3.org/2000/svg\" height=\"24px\"viewBox=\"0 0 24 24\"\n",
              "       width=\"24px\">\n",
              "    <path d=\"M0 0h24v24H0V0z\" fill=\"none\"/>\n",
              "    <path d=\"M18.56 5.44l.94 2.06.94-2.06 2.06-.94-2.06-.94-.94-2.06-.94 2.06-2.06.94zm-11 1L8.5 8.5l.94-2.06 2.06-.94-2.06-.94L8.5 2.5l-.94 2.06-2.06.94zm10 10l.94 2.06.94-2.06 2.06-.94-2.06-.94-.94-2.06-.94 2.06-2.06.94z\"/><path d=\"M17.41 7.96l-1.37-1.37c-.4-.4-.92-.59-1.43-.59-.52 0-1.04.2-1.43.59L10.3 9.45l-7.72 7.72c-.78.78-.78 2.05 0 2.83L4 21.41c.39.39.9.59 1.41.59.51 0 1.02-.2 1.41-.59l7.78-7.78 2.81-2.81c.8-.78.8-2.07 0-2.86zM5.41 20L4 18.59l7.72-7.72 1.47 1.35L5.41 20z\"/>\n",
              "  </svg>\n",
              "      </button>\n",
              "      \n",
              "  <style>\n",
              "    .colab-df-container {\n",
              "      display:flex;\n",
              "      flex-wrap:wrap;\n",
              "      gap: 12px;\n",
              "    }\n",
              "\n",
              "    .colab-df-convert {\n",
              "      background-color: #E8F0FE;\n",
              "      border: none;\n",
              "      border-radius: 50%;\n",
              "      cursor: pointer;\n",
              "      display: none;\n",
              "      fill: #1967D2;\n",
              "      height: 32px;\n",
              "      padding: 0 0 0 0;\n",
              "      width: 32px;\n",
              "    }\n",
              "\n",
              "    .colab-df-convert:hover {\n",
              "      background-color: #E2EBFA;\n",
              "      box-shadow: 0px 1px 2px rgba(60, 64, 67, 0.3), 0px 1px 3px 1px rgba(60, 64, 67, 0.15);\n",
              "      fill: #174EA6;\n",
              "    }\n",
              "\n",
              "    [theme=dark] .colab-df-convert {\n",
              "      background-color: #3B4455;\n",
              "      fill: #D2E3FC;\n",
              "    }\n",
              "\n",
              "    [theme=dark] .colab-df-convert:hover {\n",
              "      background-color: #434B5C;\n",
              "      box-shadow: 0px 1px 3px 1px rgba(0, 0, 0, 0.15);\n",
              "      filter: drop-shadow(0px 1px 2px rgba(0, 0, 0, 0.3));\n",
              "      fill: #FFFFFF;\n",
              "    }\n",
              "  </style>\n",
              "\n",
              "      <script>\n",
              "        const buttonEl =\n",
              "          document.querySelector('#df-7774d05c-648a-4a24-91ca-6e77662dc507 button.colab-df-convert');\n",
              "        buttonEl.style.display =\n",
              "          google.colab.kernel.accessAllowed ? 'block' : 'none';\n",
              "\n",
              "        async function convertToInteractive(key) {\n",
              "          const element = document.querySelector('#df-7774d05c-648a-4a24-91ca-6e77662dc507');\n",
              "          const dataTable =\n",
              "            await google.colab.kernel.invokeFunction('convertToInteractive',\n",
              "                                                     [key], {});\n",
              "          if (!dataTable) return;\n",
              "\n",
              "          const docLinkHtml = 'Like what you see? Visit the ' +\n",
              "            '<a target=\"_blank\" href=https://colab.research.google.com/notebooks/data_table.ipynb>data table notebook</a>'\n",
              "            + ' to learn more about interactive tables.';\n",
              "          element.innerHTML = '';\n",
              "          dataTable['output_type'] = 'display_data';\n",
              "          await google.colab.output.renderOutput(dataTable, element);\n",
              "          const docLink = document.createElement('div');\n",
              "          docLink.innerHTML = docLinkHtml;\n",
              "          element.appendChild(docLink);\n",
              "        }\n",
              "      </script>\n",
              "    </div>\n",
              "  </div>\n",
              "  "
            ]
          },
          "metadata": {},
          "execution_count": 20
        }
      ]
    },
    {
      "cell_type": "markdown",
      "source": [
        "### Without Pre-processing"
      ],
      "metadata": {
        "id": "lv9maS9oSUG3"
      }
    },
    {
      "cell_type": "code",
      "source": [
        "# Split the dataset into training and testing sets\n",
        "X_train, X_test, y_train, y_test = train_test_split(df['url'], df['Category'], test_size=0.2, random_state=42)"
      ],
      "metadata": {
        "id": "uSbZc9w8SJpG"
      },
      "execution_count": 21,
      "outputs": []
    },
    {
      "cell_type": "code",
      "source": [
        "# Define the hyperparameter values to test\n",
        "n_estimators_values = [50]\n",
        "max_depth_values = [30, 40, 50, 60, 70]\n",
        "test_hyperparameters(X_train, X_test, y_train, y_test, n_estimators_values, max_depth_values)"
      ],
      "metadata": {
        "id": "l58WcFihTb8V",
        "colab": {
          "base_uri": "https://localhost:8080/",
          "height": 559
        },
        "outputId": "e0607bde-30cf-4c49-c5ea-c987bdda0d00"
      },
      "execution_count": 22,
      "outputs": [
        {
          "output_type": "stream",
          "name": "stdout",
          "text": [
            "Testing with n_estimators=50, max_depth=30\n",
            "Testing with n_estimators=50, max_depth=40\n",
            "Testing with n_estimators=50, max_depth=50\n",
            "Testing with n_estimators=50, max_depth=60\n",
            "Testing with n_estimators=50, max_depth=70\n"
          ]
        },
        {
          "output_type": "display_data",
          "data": {
            "text/plain": [
              "<Figure size 640x480 with 2 Axes>"
            ],
            "image/png": "[encoded data removed]"
          },
          "metadata": {}
        }
      ]
    },
    {
      "cell_type": "markdown",
      "source": [
        "Accuracy saturated at max_depth=60\n",
        "\n",
        "\n"
      ],
      "metadata": {
        "id": "DWqKkhJxUOIh"
      }
    },
    {
      "cell_type": "markdown",
      "source": [
        "### With preprocessing"
      ],
      "metadata": {
        "id": "FP89WM63bfd2"
      }
    },
    {
      "cell_type": "code",
      "source": [
        "df = preprocessing_urls(df_orig)\n",
        "rem = {\"Category\": {\"benign\": 0, \"defacement\": 1, \"phishing\":2, \"malware\":3}}\n",
        "df['Category'] = df_orig['type']\n",
        "df = df.replace(rem)\n",
        "df = df.dropna()\n",
        "df.head()"
      ],
      "metadata": {
        "id": "r529llP0dQM-",
        "colab": {
          "base_uri": "https://localhost:8080/",
          "height": 236
        },
        "outputId": "d14d3e6e-2e6d-40f6-805f-799561d08b8a"
      },
      "execution_count": 35,
      "outputs": [
        {
          "output_type": "execute_result",
          "data": {
            "text/plain": [
              "                                                 url        type  url_len  \\\n",
              "0                                   br-icloud.com.br    phishing       16   \n",
              "1                mp3raid.com/music/krizz_kaliko.html      benign       35   \n",
              "2                    bopsecrets.org/rexroth/cr/1.htm      benign       31   \n",
              "3  http://garage-pirenne.be/index.php?option=com_...  defacement       84   \n",
              "4  http://adventure-nicaragua.net/index.php?optio...  defacement      235   \n",
              "\n",
              "                    domain  @  ?  -  =  .  #  ...  !  *  ,  //  abnormal_url  \\\n",
              "0         br-icloud.com.br  0  0  1  0  2  0  ...  0  0  0   0             0   \n",
              "1              mp3raid.com  0  0  0  0  2  0  ...  0  0  0   0             0   \n",
              "2           bopsecrets.org  0  0  0  0  2  0  ...  0  0  0   0             0   \n",
              "3        garage-pirenne.be  0  1  1  4  2  0  ...  0  0  0   1             1   \n",
              "4  adventure-nicaragua.net  0  1  1  3  2  0  ...  0  0  0   1             1   \n",
              "\n",
              "   digits  letters  Shortining_Service  having_ip_address  Category  \n",
              "0       0       13                   0                  0       2.0  \n",
              "1       1       29                   0                  0       0.0  \n",
              "2       1       25                   0                  0       0.0  \n",
              "3       7       60                   0                  0       1.0  \n",
              "4      22      199                   0                  0       1.0  \n",
              "\n",
              "[5 rows x 23 columns]"
            ],
            "text/html": [
              "\n",
              "  <div id=\"df-f04182d7-caec-4a78-88af-f8cf306c498c\">\n",
              "    <div class=\"colab-df-container\">\n",
              "      <div>\n",
              "<style scoped>\n",
              "    .dataframe tbody tr th:only-of-type {\n",
              "        vertical-align: middle;\n",
              "    }\n",
              "\n",
              "    .dataframe tbody tr th {\n",
              "        vertical-align: top;\n",
              "    }\n",
              "\n",
              "    .dataframe thead th {\n",
              "        text-align: right;\n",
              "    }\n",
              "</style>\n",
              "<table border=\"1\" class=\"dataframe\">\n",
              "  <thead>\n",
              "    <tr style=\"text-align: right;\">\n",
              "      <th></th>\n",
              "      <th>url</th>\n",
              "      <th>type</th>\n",
              "      <th>url_len</th>\n",
              "      <th>domain</th>\n",
              "      <th>@</th>\n",
              "      <th>?</th>\n",
              "      <th>-</th>\n",
              "      <th>=</th>\n",
              "      <th>.</th>\n",
              "      <th>#</th>\n",
              "      <th>...</th>\n",
              "      <th>!</th>\n",
              "      <th>*</th>\n",
              "      <th>,</th>\n",
              "      <th>//</th>\n",
              "      <th>abnormal_url</th>\n",
              "      <th>digits</th>\n",
              "      <th>letters</th>\n",
              "      <th>Shortining_Service</th>\n",
              "      <th>having_ip_address</th>\n",
              "      <th>Category</th>\n",
              "    </tr>\n",
              "  </thead>\n",
              "  <tbody>\n",
              "    <tr>\n",
              "      <th>0</th>\n",
              "      <td>br-icloud.com.br</td>\n",
              "      <td>phishing</td>\n",
              "      <td>16</td>\n",
              "      <td>br-icloud.com.br</td>\n",
              "      <td>0</td>\n",
              "      <td>0</td>\n",
              "      <td>1</td>\n",
              "      <td>0</td>\n",
              "      <td>2</td>\n",
              "      <td>0</td>\n",
              "      <td>...</td>\n",
              "      <td>0</td>\n",
              "      <td>0</td>\n",
              "      <td>0</td>\n",
              "      <td>0</td>\n",
              "      <td>0</td>\n",
              "      <td>0</td>\n",
              "      <td>13</td>\n",
              "      <td>0</td>\n",
              "      <td>0</td>\n",
              "      <td>2.0</td>\n",
              "    </tr>\n",
              "    <tr>\n",
              "      <th>1</th>\n",
              "      <td>mp3raid.com/music/krizz_kaliko.html</td>\n",
              "      <td>benign</td>\n",
              "      <td>35</td>\n",
              "      <td>mp3raid.com</td>\n",
              "      <td>0</td>\n",
              "      <td>0</td>\n",
              "      <td>0</td>\n",
              "      <td>0</td>\n",
              "      <td>2</td>\n",
              "      <td>0</td>\n",
              "      <td>...</td>\n",
              "      <td>0</td>\n",
              "      <td>0</td>\n",
              "      <td>0</td>\n",
              "      <td>0</td>\n",
              "      <td>0</td>\n",
              "      <td>1</td>\n",
              "      <td>29</td>\n",
              "      <td>0</td>\n",
              "      <td>0</td>\n",
              "      <td>0.0</td>\n",
              "    </tr>\n",
              "    <tr>\n",
              "      <th>2</th>\n",
              "      <td>bopsecrets.org/rexroth/cr/1.htm</td>\n",
              "      <td>benign</td>\n",
              "      <td>31</td>\n",
              "      <td>bopsecrets.org</td>\n",
              "      <td>0</td>\n",
              "      <td>0</td>\n",
              "      <td>0</td>\n",
              "      <td>0</td>\n",
              "      <td>2</td>\n",
              "      <td>0</td>\n",
              "      <td>...</td>\n",
              "      <td>0</td>\n",
              "      <td>0</td>\n",
              "      <td>0</td>\n",
              "      <td>0</td>\n",
              "      <td>0</td>\n",
              "      <td>1</td>\n",
              "      <td>25</td>\n",
              "      <td>0</td>\n",
              "      <td>0</td>\n",
              "      <td>0.0</td>\n",
              "    </tr>\n",
              "    <tr>\n",
              "      <th>3</th>\n",
              "      <td>http://garage-pirenne.be/index.php?option=com_...</td>\n",
              "      <td>defacement</td>\n",
              "      <td>84</td>\n",
              "      <td>garage-pirenne.be</td>\n",
              "      <td>0</td>\n",
              "      <td>1</td>\n",
              "      <td>1</td>\n",
              "      <td>4</td>\n",
              "      <td>2</td>\n",
              "      <td>0</td>\n",
              "      <td>...</td>\n",
              "      <td>0</td>\n",
              "      <td>0</td>\n",
              "      <td>0</td>\n",
              "      <td>1</td>\n",
              "      <td>1</td>\n",
              "      <td>7</td>\n",
              "      <td>60</td>\n",
              "      <td>0</td>\n",
              "      <td>0</td>\n",
              "      <td>1.0</td>\n",
              "    </tr>\n",
              "    <tr>\n",
              "      <th>4</th>\n",
              "      <td>http://adventure-nicaragua.net/index.php?optio...</td>\n",
              "      <td>defacement</td>\n",
              "      <td>235</td>\n",
              "      <td>adventure-nicaragua.net</td>\n",
              "      <td>0</td>\n",
              "      <td>1</td>\n",
              "      <td>1</td>\n",
              "      <td>3</td>\n",
              "      <td>2</td>\n",
              "      <td>0</td>\n",
              "      <td>...</td>\n",
              "      <td>0</td>\n",
              "      <td>0</td>\n",
              "      <td>0</td>\n",
              "      <td>1</td>\n",
              "      <td>1</td>\n",
              "      <td>22</td>\n",
              "      <td>199</td>\n",
              "      <td>0</td>\n",
              "      <td>0</td>\n",
              "      <td>1.0</td>\n",
              "    </tr>\n",
              "  </tbody>\n",
              "</table>\n",
              "<p>5 rows × 23 columns</p>\n",
              "</div>\n",
              "      <button class=\"colab-df-convert\" onclick=\"convertToInteractive('df-f04182d7-caec-4a78-88af-f8cf306c498c')\"\n",
              "              title=\"Convert this dataframe to an interactive table.\"\n",
              "              style=\"display:none;\">\n",
              "        \n",
              "  <svg xmlns=\"http://www.w3.org/2000/svg\" height=\"24px\"viewBox=\"0 0 24 24\"\n",
              "       width=\"24px\">\n",
              "    <path d=\"M0 0h24v24H0V0z\" fill=\"none\"/>\n",
              "    <path d=\"M18.56 5.44l.94 2.06.94-2.06 2.06-.94-2.06-.94-.94-2.06-.94 2.06-2.06.94zm-11 1L8.5 8.5l.94-2.06 2.06-.94-2.06-.94L8.5 2.5l-.94 2.06-2.06.94zm10 10l.94 2.06.94-2.06 2.06-.94-2.06-.94-.94-2.06-.94 2.06-2.06.94z\"/><path d=\"M17.41 7.96l-1.37-1.37c-.4-.4-.92-.59-1.43-.59-.52 0-1.04.2-1.43.59L10.3 9.45l-7.72 7.72c-.78.78-.78 2.05 0 2.83L4 21.41c.39.39.9.59 1.41.59.51 0 1.02-.2 1.41-.59l7.78-7.78 2.81-2.81c.8-.78.8-2.07 0-2.86zM5.41 20L4 18.59l7.72-7.72 1.47 1.35L5.41 20z\"/>\n",
              "  </svg>\n",
              "      </button>\n",
              "      \n",
              "  <style>\n",
              "    .colab-df-container {\n",
              "      display:flex;\n",
              "      flex-wrap:wrap;\n",
              "      gap: 12px;\n",
              "    }\n",
              "\n",
              "    .colab-df-convert {\n",
              "      background-color: #E8F0FE;\n",
              "      border: none;\n",
              "      border-radius: 50%;\n",
              "      cursor: pointer;\n",
              "      display: none;\n",
              "      fill: #1967D2;\n",
              "      height: 32px;\n",
              "      padding: 0 0 0 0;\n",
              "      width: 32px;\n",
              "    }\n",
              "\n",
              "    .colab-df-convert:hover {\n",
              "      background-color: #E2EBFA;\n",
              "      box-shadow: 0px 1px 2px rgba(60, 64, 67, 0.3), 0px 1px 3px 1px rgba(60, 64, 67, 0.15);\n",
              "      fill: #174EA6;\n",
              "    }\n",
              "\n",
              "    [theme=dark] .colab-df-convert {\n",
              "      background-color: #3B4455;\n",
              "      fill: #D2E3FC;\n",
              "    }\n",
              "\n",
              "    [theme=dark] .colab-df-convert:hover {\n",
              "      background-color: #434B5C;\n",
              "      box-shadow: 0px 1px 3px 1px rgba(0, 0, 0, 0.15);\n",
              "      filter: drop-shadow(0px 1px 2px rgba(0, 0, 0, 0.3));\n",
              "      fill: #FFFFFF;\n",
              "    }\n",
              "  </style>\n",
              "\n",
              "      <script>\n",
              "        const buttonEl =\n",
              "          document.querySelector('#df-f04182d7-caec-4a78-88af-f8cf306c498c button.colab-df-convert');\n",
              "        buttonEl.style.display =\n",
              "          google.colab.kernel.accessAllowed ? 'block' : 'none';\n",
              "\n",
              "        async function convertToInteractive(key) {\n",
              "          const element = document.querySelector('#df-f04182d7-caec-4a78-88af-f8cf306c498c');\n",
              "          const dataTable =\n",
              "            await google.colab.kernel.invokeFunction('convertToInteractive',\n",
              "                                                     [key], {});\n",
              "          if (!dataTable) return;\n",
              "\n",
              "          const docLinkHtml = 'Like what you see? Visit the ' +\n",
              "            '<a target=\"_blank\" href=https://colab.research.google.com/notebooks/data_table.ipynb>data table notebook</a>'\n",
              "            + ' to learn more about interactive tables.';\n",
              "          element.innerHTML = '';\n",
              "          dataTable['output_type'] = 'display_data';\n",
              "          await google.colab.output.renderOutput(dataTable, element);\n",
              "          const docLink = document.createElement('div');\n",
              "          docLink.innerHTML = docLinkHtml;\n",
              "          element.appendChild(docLink);\n",
              "        }\n",
              "      </script>\n",
              "    </div>\n",
              "  </div>\n",
              "  "
            ]
          },
          "metadata": {},
          "execution_count": 35
        }
      ]
    },
    {
      "cell_type": "code",
      "source": [
        "features = ['url_len', '@', '?', '-', '=', '.', '#', '%',\n",
        "       '+', '$', '!', '*', ',', '//', 'abnormal_url', 'digits', 'letters',\n",
        "       'Shortining_Service', 'having_ip_address']"
      ],
      "metadata": {
        "id": "F6HVQt-hkeqW"
      },
      "execution_count": 36,
      "outputs": []
    },
    {
      "cell_type": "code",
      "source": [
        "# Split the dataset into training and testing sets\n",
        "X_train, X_test, y_train, y_test = train_test_split(df[features], df['Category'], test_size=0.2, random_state=42)"
      ],
      "metadata": {
        "id": "wURsrMcqSoLp"
      },
      "execution_count": 37,
      "outputs": []
    },
    {
      "cell_type": "code",
      "source": [
        "# Define the hyperparameter values to test\n",
        "n_estimators_values = [50, 100]\n",
        "max_depth_values = [20, 30, 40, 50]\n",
        "test_hyperparameters(X_train, X_test, y_train, y_test, n_estimators_values, max_depth_values, False)"
      ],
      "metadata": {
        "id": "qF8EoIKsVOnI",
        "colab": {
          "base_uri": "https://localhost:8080/",
          "height": 611
        },
        "outputId": "4edd9788-7f5f-47b0-ffce-e4209e61fd59"
      },
      "execution_count": 38,
      "outputs": [
        {
          "output_type": "stream",
          "name": "stdout",
          "text": [
            "Testing with n_estimators=50, max_depth=20\n",
            "Testing with n_estimators=50, max_depth=30\n",
            "Testing with n_estimators=50, max_depth=40\n",
            "Testing with n_estimators=50, max_depth=50\n",
            "Testing with n_estimators=100, max_depth=20\n",
            "Testing with n_estimators=100, max_depth=30\n",
            "Testing with n_estimators=100, max_depth=40\n",
            "Testing with n_estimators=100, max_depth=50\n"
          ]
        },
        {
          "output_type": "display_data",
          "data": {
            "text/plain": [
              "<Figure size 640x480 with 2 Axes>"
            ],
            "image/png": "[encoded data removed]"
          },
          "metadata": {}
        }
      ]
    },
    {
      "cell_type": "markdown",
      "source": [
        "Achived 91% accuracy at n_estimators=50, max_depth=40 for multi-class"
      ],
      "metadata": {
        "id": "-cviIVXZUqy8"
      }
    },
    {
      "cell_type": "code",
      "source": [],
      "metadata": {
        "id": "ZHo2hodEgrrE"
      },
      "execution_count": 38,
      "outputs": []
    }
  ],
  "metadata": {
    "kernelspec": {
      "display_name": "Python 3 (ipykernel)",
      "language": "python",
      "name": "python3"
    },
    "language_info": {
      "codemirror_mode": {
        "name": "ipython",
        "version": 3
      },
      "file_extension": ".py",
      "mimetype": "text/x-python",
      "name": "python",
      "nbconvert_exporter": "python",
      "pygments_lexer": "ipython3",
      "version": "3.10.4"
    },
    "colab": {
      "provenance": []
    },
    "gpuClass": "standard",
    "accelerator": "GPU"
  },
  "nbformat": 4,
  "nbformat_minor": 0
}